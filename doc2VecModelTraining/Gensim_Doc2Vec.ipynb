{
 "cells": [
  {
   "cell_type": "code",
   "execution_count": 42,
   "metadata": {},
   "outputs": [],
   "source": [
    "import os\n",
    "import gensim"
   ]
  },
  {
   "cell_type": "code",
   "execution_count": 43,
   "metadata": {
    "scrolled": true
   },
   "outputs": [
    {
     "name": "stdout",
     "output_type": "stream",
     "text": [
      "/Users/agupta382/Desktop/Code-Base-Repo/nlp_project/test/test_data\n"
     ]
    }
   ],
   "source": [
    "# Set file names for train and test data\n",
    "test_data_dir = os.path.join('/Users/anuhoney/Desktop/Code-Base-Repo/nlp_project', 'test', 'test_data')\n",
    "print(test_data_dir)\n",
    "lee_train_file = os.path.join(test_data_dir, 'student.txt')\n",
    "lee_test_file = os.path.join(test_data_dir, 'student.txt')"
   ]
  },
  {
   "cell_type": "code",
   "execution_count": 44,
   "metadata": {},
   "outputs": [],
   "source": [
    "import smart_open\n",
    "\n",
    "def read_corpus(fname, tokens_only=False):\n",
    "    with smart_open.open(fname, encoding=\"iso-8859-1\") as f:\n",
    "        for i, line in enumerate(f):\n",
    "            tokens = gensim.utils.simple_preprocess(line)\n",
    "            if tokens_only:\n",
    "                yield tokens\n",
    "            else:\n",
    "                # For training data, add tags\n",
    "                yield gensim.models.doc2vec.TaggedDocument(tokens, [i])\n",
    "\n",
    "train_corpus = list(read_corpus(lee_train_file))\n",
    "test_corpus = list(read_corpus(lee_test_file, tokens_only=True))"
   ]
  },
  {
   "cell_type": "code",
   "execution_count": 45,
   "metadata": {
    "scrolled": true
   },
   "outputs": [
    {
     "name": "stdout",
     "output_type": "stream",
     "text": [
      "[TaggedDocument(words=['want', 'to', 'know', 'cs', 'calendar'], tags=[0]), TaggedDocument(words=['want', 'to', 'know', 'computer', 'science', 'calendar'], tags=[1])]\n"
     ]
    }
   ],
   "source": [
    "print(train_corpus[:2])"
   ]
  },
  {
   "cell_type": "code",
   "execution_count": 46,
   "metadata": {},
   "outputs": [],
   "source": [
    "model = gensim.models.doc2vec.Doc2Vec(vector_size=300, min_count=2, epochs=2000)"
   ]
  },
  {
   "cell_type": "code",
   "execution_count": 47,
   "metadata": {},
   "outputs": [],
   "source": [
    "model.build_vocab(train_corpus)"
   ]
  },
  {
   "cell_type": "code",
   "execution_count": 48,
   "metadata": {},
   "outputs": [],
   "source": [
    "model.train(train_corpus, total_examples=model.corpus_count, epochs=model.epochs)"
   ]
  },
  {
   "cell_type": "code",
   "execution_count": 56,
   "metadata": {},
   "outputs": [],
   "source": [
    "inputTranscript=\"application\"\n",
    "inputList=gensim.utils.simple_preprocess(inputTranscript)"
   ]
  },
  {
   "cell_type": "code",
   "execution_count": 57,
   "metadata": {},
   "outputs": [
    {
     "data": {
      "text/plain": [
       "[(39, 0.6333415508270264),\n",
       " (67, 0.6270046234130859),\n",
       " (66, 0.5973424911499023),\n",
       " (38, 0.5946658253669739),\n",
       " (11, 0.5940940380096436),\n",
       " (65, 0.5921425819396973),\n",
       " (37, 0.5839821696281433),\n",
       " (10, 0.5773777961730957),\n",
       " (9, 0.5650385022163391),\n",
       " (88, 0.4284156560897827)]"
      ]
     },
     "execution_count": 57,
     "metadata": {},
     "output_type": "execute_result"
    }
   ],
   "source": [
    "new_vector = model.infer_vector(inputList)\n",
    "sims = model.docvecs.most_similar([new_vector])\n",
    "sims\n",
    "# sims[:-5]\n",
    "# model.docvecs.most_similar(8)\n",
    "# model.docvecs[1]"
   ]
  },
  {
   "cell_type": "code",
   "execution_count": 58,
   "metadata": {},
   "outputs": [],
   "source": [
    "response=model.wv.most_similar(inputList)\n",
    "#response=model.docvecs.most_similar(1)\n",
    "#model.infer_vector(inputList)\n",
    "#print(model.docvecs[1])"
   ]
  },
  {
   "cell_type": "code",
   "execution_count": 59,
   "metadata": {},
   "outputs": [
    {
     "data": {
      "text/plain": [
       "[('eligibility', 0.7482575178146362),\n",
       " ('homepage', 0.6042361855506897),\n",
       " ('schedule', 0.5673527717590332),\n",
       " ('of', 0.4332573711872101),\n",
       " ('email', 0.42526865005493164),\n",
       " ('general', 0.42422524094581604),\n",
       " ('apply', 0.4041776657104492),\n",
       " ('no', 0.40315598249435425),\n",
       " ('calendar', 0.4019966721534729),\n",
       " ('fax', 0.38543760776519775)]"
      ]
     },
     "execution_count": 59,
     "metadata": {},
     "output_type": "execute_result"
    }
   ],
   "source": [
    "response"
   ]
  },
  {
   "cell_type": "code",
   "execution_count": 55,
   "metadata": {},
   "outputs": [],
   "source": [
    "model.save(\"unibot.model\")"
   ]
  },
  {
   "cell_type": "code",
   "execution_count": null,
   "metadata": {},
   "outputs": [],
   "source": []
  }
 ],
 "metadata": {
  "kernelspec": {
   "display_name": "Python 3",
   "language": "python",
   "name": "python3"
  },
  "language_info": {
   "codemirror_mode": {
    "name": "ipython",
    "version": 3
   },
   "file_extension": ".py",
   "mimetype": "text/x-python",
   "name": "python",
   "nbconvert_exporter": "python",
   "pygments_lexer": "ipython3",
   "version": "3.8.3"
  }
 },
 "nbformat": 4,
 "nbformat_minor": 4
}